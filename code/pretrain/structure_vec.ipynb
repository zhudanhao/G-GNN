{
 "cells": [
  {
   "cell_type": "code",
   "execution_count": null,
   "metadata": {},
   "outputs": [],
   "source": [
    "import tensorflow as tf\n",
    "import random"
   ]
  },
  {
   "cell_type": "code",
   "execution_count": null,
   "metadata": {},
   "outputs": [],
   "source": [
    "from dgl.data import citation_graph as citegrh\n",
    "import numpy as np\n",
    "## load the dataset of citeseer or core\n",
    "#data = citegrh.load_citeseer()\n",
    "#data = citegrh.load_cora()\n",
    "data = citegrh.load_pubmed()"
   ]
  },
  {
   "cell_type": "code",
   "execution_count": null,
   "metadata": {},
   "outputs": [],
   "source": [
    "def random_walks(links,walk_length = 100, iterations=10):\n",
    "    nodes_map = dict()\n",
    "    for a,b in links:\n",
    "        if a not in nodes_map:\n",
    "            nodes_map[a] = set()\n",
    "        nodes_map[a].add(b)\n",
    "\n",
    "    for a in nodes_map:\n",
    "        nodes_map[a] = list(nodes_map[a])\n",
    "\n",
    "    paths = []\n",
    "    for num_walks in range(iterations):\n",
    "        for a in nodes_map:\n",
    "            path = []\n",
    "            now = a\n",
    "            path.append(now)\n",
    "            index = random.randint(0,len(nodes_map[now])-1)\n",
    "            path.append(nodes_map[now][index])\n",
    "            last = a\n",
    "            now = nodes_map[now][index]\n",
    "\n",
    "            for step in range(walk_length-2):       \n",
    "                if now not in nodes_map:\n",
    "                    break\n",
    "                lst = nodes_map[now]\n",
    "                last = now\n",
    "                now = random.choice(lst)                                   \n",
    "                path.append(now)\n",
    "            paths.append(path)\n",
    "    return paths"
   ]
  },
  {
   "cell_type": "code",
   "execution_count": null,
   "metadata": {},
   "outputs": [],
   "source": [
    "voc_set = set()\n",
    "links = []\n",
    "for a,b in data.graph.edges:\n",
    "    links.append([a,b])\n",
    "    voc_set.add(a)\n",
    "    voc_set.add(b)\n",
    "num_nodes = len(voc_set)"
   ]
  },
  {
   "cell_type": "code",
   "execution_count": null,
   "metadata": {},
   "outputs": [],
   "source": []
  },
  {
   "cell_type": "code",
   "execution_count": null,
   "metadata": {},
   "outputs": [],
   "source": [
    "sents = random_walks(links)"
   ]
  },
  {
   "cell_type": "code",
   "execution_count": null,
   "metadata": {},
   "outputs": [],
   "source": [
    "window_size = 10\n",
    "train_xs_data,train_ys_data = [], []\n",
    "for sent in sents:\n",
    "    for i in range(len(sent)):\n",
    "        for j in range(len(sent)):\n",
    "            if i!=j and (i-j<=window_size and i-j>=-window_size):\n",
    "                a,b = sent[i],sent[j]\n",
    "                train_xs_data.append(a)\n",
    "                train_ys_data.append(b)\n",
    "train_xs_data = np.array(train_xs_data)\n",
    "train_ys_data = np.array(train_ys_data)"
   ]
  },
  {
   "cell_type": "code",
   "execution_count": null,
   "metadata": {},
   "outputs": [],
   "source": [
    "#Computational Graph Definition\n",
    "tf.reset_default_graph()#remove this if not ipython notebook\n",
    "batch_size = 512\n",
    "embedding_size = 2 # Dimension of the embedding vector.\n",
    "num_sampled = 64 # Number of negative examples to sample.\n",
    "\n",
    "\n",
    "node_embeddings_in = tf.Variable(tf.random_uniform([num_nodes, embedding_size], -1.0, 1.0))\n",
    "node_embeddings_out = tf.Variable(tf.random_uniform([num_nodes, embedding_size], -1.0,1.0))\n",
    "\n",
    "#Fixedones\n",
    "biases=tf.Variable(tf.zeros([num_nodes]))\n",
    "\n",
    "train_xs =  tf.placeholder(tf.int32, shape=[None],name=\"xs\")\n",
    "train_ys =  tf.placeholder(tf.int32, shape=[None,1],name=\"ys\")\n",
    "\n",
    "xs_emb = tf.nn.embedding_lookup(node_embeddings_in, train_xs)\n",
    "\n",
    "\n",
    "\n",
    "loss_node2vec = tf.reduce_mean(tf.nn.sampled_softmax_loss(node_embeddings_out,\n",
    "                                                          biases,train_ys,xs_emb, num_sampled, num_nodes))\n",
    "update_loss = tf.train.AdamOptimizer().minimize(loss_node2vec)\n",
    "\n",
    "init = tf.initialize_all_variables()\n"
   ]
  },
  {
   "cell_type": "code",
   "execution_count": null,
   "metadata": {},
   "outputs": [],
   "source": [
    "loss_rec = []\n",
    "batch_num = len(train_xs_data) // batch_size\n",
    "with tf.Session() as sess:\n",
    "    sess.run(init)\n",
    "    init_lr =0.05\n",
    "    for epoch in range(1):\n",
    "        for i in range(batch_num):            \n",
    "            data_xs =train_xs_data[i*batch_size:(i+1)*batch_size]\n",
    "            data_ys = train_ys_data[i*batch_size:(i+1)*batch_size].reshape([-1,1])\n",
    "            feed_dict={\n",
    "                       train_xs:data_xs,\n",
    "                       train_ys:data_ys,\n",
    "                      }        \n",
    "            _,loss_value=sess.run([update_loss,loss_node2vec], feed_dict)\n",
    "                 \n",
    "    Embeddings = sess.run(node_embeddings_in)\n",
    "                "
   ]
  },
  {
   "cell_type": "code",
   "execution_count": null,
   "metadata": {},
   "outputs": [],
   "source": [
    "np.save('pubmed_structure_2d.npy',Embeddings)"
   ]
  },
  {
   "cell_type": "code",
   "execution_count": null,
   "metadata": {},
   "outputs": [],
   "source": []
  }
 ],
 "metadata": {
  "kernelspec": {
   "display_name": "tf-python",
   "language": "python",
   "name": "tf-gpu"
  },
  "language_info": {
   "codemirror_mode": {
    "name": "ipython",
    "version": 3
   },
   "file_extension": ".py",
   "mimetype": "text/x-python",
   "name": "python",
   "nbconvert_exporter": "python",
   "pygments_lexer": "ipython3",
   "version": "3.5.6"
  }
 },
 "nbformat": 4,
 "nbformat_minor": 2
}
